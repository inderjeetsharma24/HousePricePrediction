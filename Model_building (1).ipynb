{
  "cells": [
    {
      "cell_type": "code",
      "execution_count": 2,
      "id": "e4ef7e04",
      "metadata": {
        "colab": {
          "base_uri": "https://localhost:8080/"
        },
        "id": "e4ef7e04",
        "outputId": "e162dd3c-fa6a-422b-d900-008320bf66cc"
      },
      "outputs": [
        {
          "output_type": "stream",
          "name": "stdout",
          "text": [
            "   Id  SalePrice  MSSubClass  MSZoning  LotFrontage   LotArea  Street  Alley  \\\n",
            "0   1  12.247694    0.235294      0.75     0.418208  0.366344     1.0    1.0   \n",
            "1   2  12.109011    0.000000      0.75     0.495064  0.391317     1.0    1.0   \n",
            "2   3  12.317167    0.235294      0.75     0.434909  0.422359     1.0    1.0   \n",
            "3   4  11.849398    0.294118      0.75     0.388581  0.390295     1.0    1.0   \n",
            "4   5  12.429216    0.235294      0.75     0.513123  0.468761     1.0    1.0   \n",
            "\n",
            "   LotShape  LandContour  Utilities  LotConfig  LandSlope  Neighborhood  \\\n",
            "0  0.000000     0.333333        1.0       0.00        0.0      0.636364   \n",
            "1  0.000000     0.333333        1.0       0.50        0.0      0.500000   \n",
            "2  0.333333     0.333333        1.0       0.00        0.0      0.636364   \n",
            "3  0.333333     0.333333        1.0       0.25        0.0      0.727273   \n",
            "4  0.333333     0.333333        1.0       0.50        0.0      1.000000   \n",
            "\n",
            "   Condition1  Condition2  BldgType  HouseStyle  OverallQual  OverallCond  \\\n",
            "0         0.4         1.0      0.75         1.0     0.666667        0.500   \n",
            "1         0.2         1.0      0.75         0.6     0.555556        0.875   \n",
            "2         0.4         1.0      0.75         1.0     0.666667        0.500   \n",
            "3         0.4         1.0      0.75         1.0     0.666667        0.500   \n",
            "4         0.4         1.0      0.75         1.0     0.777778        0.500   \n",
            "\n",
            "   YearBuilt  YearRemodAdd  RoofStyle  RoofMatl  Exterior1st  Exterior2nd  \\\n",
            "0   0.036765      0.098361        0.0       0.0          1.0          1.0   \n",
            "1   0.227941      0.524590        0.0       0.0          0.4          0.3   \n",
            "2   0.051471      0.114754        0.0       0.0          1.0          1.0   \n",
            "3   0.669118      0.606557        0.0       0.0          0.2          0.4   \n",
            "4   0.058824      0.147541        0.0       0.0          1.0          1.0   \n",
            "\n",
            "   MasVnrType  MasVnrArea  ExterQual  ExterCond  Foundation  BsmtQual  \\\n",
            "0    0.666667     0.12250   0.666667        1.0        1.00      0.75   \n",
            "1    0.333333     0.00000   0.333333        1.0        0.50      0.75   \n",
            "2    0.666667     0.10125   0.666667        1.0        1.00      0.75   \n",
            "3    0.333333     0.00000   0.333333        1.0        0.25      0.50   \n",
            "4    0.666667     0.21875   0.666667        1.0        1.00      0.75   \n",
            "\n",
            "   BsmtCond  BsmtExposure  BsmtFinType1  BsmtFinSF1  BsmtFinType2  BsmtFinSF2  \\\n",
            "0      0.75          0.25      1.000000    0.125089      0.833333         0.0   \n",
            "1      0.75          1.00      0.666667    0.173281      0.833333         0.0   \n",
            "2      0.75          0.50      1.000000    0.086109      0.833333         0.0   \n",
            "3      1.00          0.25      0.666667    0.038271      0.833333         0.0   \n",
            "4      0.75          0.75      1.000000    0.116052      0.833333         0.0   \n",
            "\n",
            "   BsmtUnfSF  TotalBsmtSF  Heating  HeatingQC  CentralAir  Electrical  \\\n",
            "0   0.064212     0.140098      1.0       1.00         1.0         1.0   \n",
            "1   0.121575     0.206547      1.0       1.00         1.0         1.0   \n",
            "2   0.185788     0.150573      1.0       1.00         1.0         1.0   \n",
            "3   0.231164     0.123732      1.0       0.75         1.0         1.0   \n",
            "4   0.209760     0.187398      1.0       1.00         1.0         1.0   \n",
            "\n",
            "   1stFlrSF  2ndFlrSF  LowQualFinSF  GrLivArea  BsmtFullBath  BsmtHalfBath  \\\n",
            "0  0.356155  0.413559           0.0   0.577712      0.333333           0.0   \n",
            "1  0.503056  0.000000           0.0   0.470245      0.000000           0.5   \n",
            "2  0.383441  0.419370           0.0   0.593095      0.333333           0.0   \n",
            "3  0.399941  0.366102           0.0   0.579157      0.333333           0.0   \n",
            "4  0.466237  0.509927           0.0   0.666523      0.333333           0.0   \n",
            "\n",
            "   FullBath  HalfBath  BedroomAbvGr  KitchenAbvGr  KitchenQual  TotRmsAbvGrd  \\\n",
            "0  0.666667       0.5         0.375      0.333333     0.666667      0.500000   \n",
            "1  0.666667       0.0         0.375      0.333333     0.333333      0.333333   \n",
            "2  0.666667       0.5         0.375      0.333333     0.666667      0.333333   \n",
            "3  0.333333       0.0         0.375      0.333333     0.666667      0.416667   \n",
            "4  0.666667       0.5         0.500      0.333333     0.666667      0.583333   \n",
            "\n",
            "   Functional  Fireplaces  FireplaceQu  GarageType  GarageYrBlt  GarageFinish  \\\n",
            "0         1.0    0.000000          0.2         0.8     0.046729      0.666667   \n",
            "1         1.0    0.333333          0.6         0.8     0.289720      0.666667   \n",
            "2         1.0    0.333333          0.6         0.8     0.065421      0.666667   \n",
            "3         1.0    0.333333          0.8         0.4     0.074766      0.333333   \n",
            "4         1.0    0.333333          0.6         0.8     0.074766      0.666667   \n",
            "\n",
            "   GarageCars  GarageArea  GarageQual  GarageCond  PavedDrive  WoodDeckSF  \\\n",
            "0        0.50    0.386460    0.666667         1.0         1.0    0.000000   \n",
            "1        0.50    0.324401    0.666667         1.0         1.0    0.347725   \n",
            "2        0.50    0.428773    0.666667         1.0         1.0    0.000000   \n",
            "3        0.75    0.452750    0.666667         1.0         1.0    0.000000   \n",
            "4        0.75    0.589563    0.666667         1.0         1.0    0.224037   \n",
            "\n",
            "   OpenPorchSF  EnclosedPorch  3SsnPorch  ScreenPorch  PoolArea  PoolQC  \\\n",
            "0     0.111517       0.000000        0.0          0.0       0.0     0.0   \n",
            "1     0.000000       0.000000        0.0          0.0       0.0     0.0   \n",
            "2     0.076782       0.000000        0.0          0.0       0.0     0.0   \n",
            "3     0.063985       0.492754        0.0          0.0       0.0     0.0   \n",
            "4     0.153565       0.000000        0.0          0.0       0.0     0.0   \n",
            "\n",
            "   Fence  MiscFeature  MiscVal    MoSold  YrSold  SaleType  SaleCondition  \\\n",
            "0    1.0          1.0      0.0  0.090909     0.0  0.666667           0.75   \n",
            "1    1.0          1.0      0.0  0.363636     0.0  0.666667           0.75   \n",
            "2    1.0          1.0      0.0  0.727273     0.0  0.666667           0.75   \n",
            "3    1.0          1.0      0.0  0.090909     0.0  0.666667           0.00   \n",
            "4    1.0          1.0      0.0  1.000000     0.0  0.666667           0.75   \n",
            "\n",
            "   LotFrontagenan  MasVnrAreanan  GarageYrBltnan  \n",
            "0             0.0            0.0             0.0  \n",
            "1             0.0            0.0             0.0  \n",
            "2             0.0            0.0             0.0  \n",
            "3             0.0            0.0             0.0  \n",
            "4             0.0            0.0             0.0  \n"
          ]
        }
      ],
      "source": [
        "import pandas as pd\n",
        "import numpy as np\n",
        "import matplotlib.pyplot as plt\n",
        "pd.pandas.set_option('display.max_columns',None)\n",
        "dataset = pd.read_csv(\"NEW_ADVANCE_HOUSE.csv\")\n",
        "print(dataset.head())\n",
        "#FOR FEATURE SELECTION\n",
        "from sklearn.linear_model import Lasso\n",
        "from sklearn.feature_selection import SelectFromModel"
      ]
    },
    {
      "cell_type": "code",
      "execution_count": 3,
      "id": "d7b958fe",
      "metadata": {
        "id": "d7b958fe"
      },
      "outputs": [],
      "source": [
        "#DEPENDENT AND INDEPENDENT VARIABLE\n",
        "Y = dataset[['SalePrice']]\n",
        "X = dataset.drop(['Id','SalePrice'],axis=1)"
      ]
    },
    {
      "cell_type": "code",
      "execution_count": 4,
      "id": "f8a51f54",
      "metadata": {
        "lines_to_next_cell": 2,
        "colab": {
          "base_uri": "https://localhost:8080/",
          "height": 116
        },
        "id": "f8a51f54",
        "outputId": "df59ec88-81fa-4478-95c5-5728e921fc23"
      },
      "outputs": [
        {
          "output_type": "execute_result",
          "data": {
            "text/plain": [
              "SelectFromModel(estimator=Lasso(alpha=0.005, random_state=0))"
            ],
            "text/html": [
              "<style>#sk-container-id-1 {color: black;}#sk-container-id-1 pre{padding: 0;}#sk-container-id-1 div.sk-toggleable {background-color: white;}#sk-container-id-1 label.sk-toggleable__label {cursor: pointer;display: block;width: 100%;margin-bottom: 0;padding: 0.3em;box-sizing: border-box;text-align: center;}#sk-container-id-1 label.sk-toggleable__label-arrow:before {content: \"▸\";float: left;margin-right: 0.25em;color: #696969;}#sk-container-id-1 label.sk-toggleable__label-arrow:hover:before {color: black;}#sk-container-id-1 div.sk-estimator:hover label.sk-toggleable__label-arrow:before {color: black;}#sk-container-id-1 div.sk-toggleable__content {max-height: 0;max-width: 0;overflow: hidden;text-align: left;background-color: #f0f8ff;}#sk-container-id-1 div.sk-toggleable__content pre {margin: 0.2em;color: black;border-radius: 0.25em;background-color: #f0f8ff;}#sk-container-id-1 input.sk-toggleable__control:checked~div.sk-toggleable__content {max-height: 200px;max-width: 100%;overflow: auto;}#sk-container-id-1 input.sk-toggleable__control:checked~label.sk-toggleable__label-arrow:before {content: \"▾\";}#sk-container-id-1 div.sk-estimator input.sk-toggleable__control:checked~label.sk-toggleable__label {background-color: #d4ebff;}#sk-container-id-1 div.sk-label input.sk-toggleable__control:checked~label.sk-toggleable__label {background-color: #d4ebff;}#sk-container-id-1 input.sk-hidden--visually {border: 0;clip: rect(1px 1px 1px 1px);clip: rect(1px, 1px, 1px, 1px);height: 1px;margin: -1px;overflow: hidden;padding: 0;position: absolute;width: 1px;}#sk-container-id-1 div.sk-estimator {font-family: monospace;background-color: #f0f8ff;border: 1px dotted black;border-radius: 0.25em;box-sizing: border-box;margin-bottom: 0.5em;}#sk-container-id-1 div.sk-estimator:hover {background-color: #d4ebff;}#sk-container-id-1 div.sk-parallel-item::after {content: \"\";width: 100%;border-bottom: 1px solid gray;flex-grow: 1;}#sk-container-id-1 div.sk-label:hover label.sk-toggleable__label {background-color: #d4ebff;}#sk-container-id-1 div.sk-serial::before {content: \"\";position: absolute;border-left: 1px solid gray;box-sizing: border-box;top: 0;bottom: 0;left: 50%;z-index: 0;}#sk-container-id-1 div.sk-serial {display: flex;flex-direction: column;align-items: center;background-color: white;padding-right: 0.2em;padding-left: 0.2em;position: relative;}#sk-container-id-1 div.sk-item {position: relative;z-index: 1;}#sk-container-id-1 div.sk-parallel {display: flex;align-items: stretch;justify-content: center;background-color: white;position: relative;}#sk-container-id-1 div.sk-item::before, #sk-container-id-1 div.sk-parallel-item::before {content: \"\";position: absolute;border-left: 1px solid gray;box-sizing: border-box;top: 0;bottom: 0;left: 50%;z-index: -1;}#sk-container-id-1 div.sk-parallel-item {display: flex;flex-direction: column;z-index: 1;position: relative;background-color: white;}#sk-container-id-1 div.sk-parallel-item:first-child::after {align-self: flex-end;width: 50%;}#sk-container-id-1 div.sk-parallel-item:last-child::after {align-self: flex-start;width: 50%;}#sk-container-id-1 div.sk-parallel-item:only-child::after {width: 0;}#sk-container-id-1 div.sk-dashed-wrapped {border: 1px dashed gray;margin: 0 0.4em 0.5em 0.4em;box-sizing: border-box;padding-bottom: 0.4em;background-color: white;}#sk-container-id-1 div.sk-label label {font-family: monospace;font-weight: bold;display: inline-block;line-height: 1.2em;}#sk-container-id-1 div.sk-label-container {text-align: center;}#sk-container-id-1 div.sk-container {/* jupyter's `normalize.less` sets `[hidden] { display: none; }` but bootstrap.min.css set `[hidden] { display: none !important; }` so we also need the `!important` here to be able to override the default hidden behavior on the sphinx rendered scikit-learn.org. See: https://github.com/scikit-learn/scikit-learn/issues/21755 */display: inline-block !important;position: relative;}#sk-container-id-1 div.sk-text-repr-fallback {display: none;}</style><div id=\"sk-container-id-1\" class=\"sk-top-container\"><div class=\"sk-text-repr-fallback\"><pre>SelectFromModel(estimator=Lasso(alpha=0.005, random_state=0))</pre><b>In a Jupyter environment, please rerun this cell to show the HTML representation or trust the notebook. <br />On GitHub, the HTML representation is unable to render, please try loading this page with nbviewer.org.</b></div><div class=\"sk-container\" hidden><div class=\"sk-item sk-dashed-wrapped\"><div class=\"sk-label-container\"><div class=\"sk-label sk-toggleable\"><input class=\"sk-toggleable__control sk-hidden--visually\" id=\"sk-estimator-id-1\" type=\"checkbox\" ><label for=\"sk-estimator-id-1\" class=\"sk-toggleable__label sk-toggleable__label-arrow\">SelectFromModel</label><div class=\"sk-toggleable__content\"><pre>SelectFromModel(estimator=Lasso(alpha=0.005, random_state=0))</pre></div></div></div><div class=\"sk-parallel\"><div class=\"sk-parallel-item\"><div class=\"sk-item\"><div class=\"sk-label-container\"><div class=\"sk-label sk-toggleable\"><input class=\"sk-toggleable__control sk-hidden--visually\" id=\"sk-estimator-id-2\" type=\"checkbox\" ><label for=\"sk-estimator-id-2\" class=\"sk-toggleable__label sk-toggleable__label-arrow\">estimator: Lasso</label><div class=\"sk-toggleable__content\"><pre>Lasso(alpha=0.005, random_state=0)</pre></div></div></div><div class=\"sk-serial\"><div class=\"sk-item\"><div class=\"sk-estimator sk-toggleable\"><input class=\"sk-toggleable__control sk-hidden--visually\" id=\"sk-estimator-id-3\" type=\"checkbox\" ><label for=\"sk-estimator-id-3\" class=\"sk-toggleable__label sk-toggleable__label-arrow\">Lasso</label><div class=\"sk-toggleable__content\"><pre>Lasso(alpha=0.005, random_state=0)</pre></div></div></div></div></div></div></div></div></div></div>"
            ]
          },
          "metadata": {},
          "execution_count": 4
        }
      ],
      "source": [
        "feature_sel_model = SelectFromModel(Lasso(alpha=0.005,random_state=0))    #select variable based on weight\n",
        "feature_sel_model.fit(X,Y)\n",
        "#PRINT(FEATURE_SEL_MODEL.GET_SUPPORT())"
      ]
    },
    {
      "cell_type": "code",
      "execution_count": 5,
      "id": "b3b6a4fe",
      "metadata": {
        "id": "b3b6a4fe"
      },
      "outputs": [],
      "source": [
        "#COLLECTING SELECTED FEATURES\n",
        "selected_feature = X.columns[feature_sel_model.get_support()]"
      ]
    },
    {
      "cell_type": "code",
      "execution_count": 6,
      "id": "5c168cb0",
      "metadata": {
        "colab": {
          "base_uri": "https://localhost:8080/"
        },
        "id": "5c168cb0",
        "outputId": "43f00258-b316-41bf-8767-9394f97d583c"
      },
      "outputs": [
        {
          "output_type": "stream",
          "name": "stdout",
          "text": [
            "no of feature 82\n",
            "no of selected feature 21\n",
            "Index(['MSSubClass', 'MSZoning', 'Neighborhood', 'OverallQual', 'YearRemodAdd',\n",
            "       'RoofStyle', 'BsmtQual', 'BsmtExposure', 'HeatingQC', 'CentralAir',\n",
            "       '1stFlrSF', 'GrLivArea', 'BsmtFullBath', 'KitchenQual', 'Fireplaces',\n",
            "       'FireplaceQu', 'GarageType', 'GarageFinish', 'GarageCars', 'PavedDrive',\n",
            "       'SaleCondition'],\n",
            "      dtype='object')\n"
          ]
        }
      ],
      "source": [
        "print('no of feature',X.shape[1])\n",
        "print('no of selected feature',len(selected_feature))\n",
        "print(selected_feature)\n",
        "#print(X_train[selected_feature].head())\n",
        "X = X[selected_feature]"
      ]
    },
    {
      "cell_type": "code",
      "execution_count": 6,
      "id": "7329c435",
      "metadata": {
        "id": "7329c435"
      },
      "outputs": [],
      "source": []
    },
    {
      "cell_type": "code",
      "execution_count": 6,
      "id": "592ff2de",
      "metadata": {
        "lines_to_next_cell": 2,
        "id": "592ff2de"
      },
      "outputs": [],
      "source": []
    },
    {
      "cell_type": "markdown",
      "id": "0dfd43ed",
      "metadata": {
        "id": "0dfd43ed"
      },
      "source": [
        "MODEL_BUILDING"
      ]
    },
    {
      "cell_type": "code",
      "execution_count": 7,
      "id": "5f231aff",
      "metadata": {
        "id": "5f231aff"
      },
      "outputs": [],
      "source": [
        "from sklearn.model_selection import train_test_split\n",
        "# split into train test sets\n",
        "X_train, X_test, Y_train, Y_test = train_test_split(X,Y,test_size=0.33,random_state=1)"
      ]
    },
    {
      "cell_type": "markdown",
      "source": [
        "\n",
        "LINEAR REGRESSSION"
      ],
      "metadata": {
        "id": "xvTyk8SzGH5I"
      },
      "id": "xvTyk8SzGH5I"
    },
    {
      "cell_type": "code",
      "execution_count": 20,
      "id": "edc33ea9",
      "metadata": {
        "colab": {
          "base_uri": "https://localhost:8080/",
          "height": 74
        },
        "id": "edc33ea9",
        "outputId": "8662ad71-8a69-4263-80e7-7d9819ceaff1"
      },
      "outputs": [
        {
          "output_type": "execute_result",
          "data": {
            "text/plain": [
              "LinearRegression()"
            ],
            "text/html": [
              "<style>#sk-container-id-3 {color: black;}#sk-container-id-3 pre{padding: 0;}#sk-container-id-3 div.sk-toggleable {background-color: white;}#sk-container-id-3 label.sk-toggleable__label {cursor: pointer;display: block;width: 100%;margin-bottom: 0;padding: 0.3em;box-sizing: border-box;text-align: center;}#sk-container-id-3 label.sk-toggleable__label-arrow:before {content: \"▸\";float: left;margin-right: 0.25em;color: #696969;}#sk-container-id-3 label.sk-toggleable__label-arrow:hover:before {color: black;}#sk-container-id-3 div.sk-estimator:hover label.sk-toggleable__label-arrow:before {color: black;}#sk-container-id-3 div.sk-toggleable__content {max-height: 0;max-width: 0;overflow: hidden;text-align: left;background-color: #f0f8ff;}#sk-container-id-3 div.sk-toggleable__content pre {margin: 0.2em;color: black;border-radius: 0.25em;background-color: #f0f8ff;}#sk-container-id-3 input.sk-toggleable__control:checked~div.sk-toggleable__content {max-height: 200px;max-width: 100%;overflow: auto;}#sk-container-id-3 input.sk-toggleable__control:checked~label.sk-toggleable__label-arrow:before {content: \"▾\";}#sk-container-id-3 div.sk-estimator input.sk-toggleable__control:checked~label.sk-toggleable__label {background-color: #d4ebff;}#sk-container-id-3 div.sk-label input.sk-toggleable__control:checked~label.sk-toggleable__label {background-color: #d4ebff;}#sk-container-id-3 input.sk-hidden--visually {border: 0;clip: rect(1px 1px 1px 1px);clip: rect(1px, 1px, 1px, 1px);height: 1px;margin: -1px;overflow: hidden;padding: 0;position: absolute;width: 1px;}#sk-container-id-3 div.sk-estimator {font-family: monospace;background-color: #f0f8ff;border: 1px dotted black;border-radius: 0.25em;box-sizing: border-box;margin-bottom: 0.5em;}#sk-container-id-3 div.sk-estimator:hover {background-color: #d4ebff;}#sk-container-id-3 div.sk-parallel-item::after {content: \"\";width: 100%;border-bottom: 1px solid gray;flex-grow: 1;}#sk-container-id-3 div.sk-label:hover label.sk-toggleable__label {background-color: #d4ebff;}#sk-container-id-3 div.sk-serial::before {content: \"\";position: absolute;border-left: 1px solid gray;box-sizing: border-box;top: 0;bottom: 0;left: 50%;z-index: 0;}#sk-container-id-3 div.sk-serial {display: flex;flex-direction: column;align-items: center;background-color: white;padding-right: 0.2em;padding-left: 0.2em;position: relative;}#sk-container-id-3 div.sk-item {position: relative;z-index: 1;}#sk-container-id-3 div.sk-parallel {display: flex;align-items: stretch;justify-content: center;background-color: white;position: relative;}#sk-container-id-3 div.sk-item::before, #sk-container-id-3 div.sk-parallel-item::before {content: \"\";position: absolute;border-left: 1px solid gray;box-sizing: border-box;top: 0;bottom: 0;left: 50%;z-index: -1;}#sk-container-id-3 div.sk-parallel-item {display: flex;flex-direction: column;z-index: 1;position: relative;background-color: white;}#sk-container-id-3 div.sk-parallel-item:first-child::after {align-self: flex-end;width: 50%;}#sk-container-id-3 div.sk-parallel-item:last-child::after {align-self: flex-start;width: 50%;}#sk-container-id-3 div.sk-parallel-item:only-child::after {width: 0;}#sk-container-id-3 div.sk-dashed-wrapped {border: 1px dashed gray;margin: 0 0.4em 0.5em 0.4em;box-sizing: border-box;padding-bottom: 0.4em;background-color: white;}#sk-container-id-3 div.sk-label label {font-family: monospace;font-weight: bold;display: inline-block;line-height: 1.2em;}#sk-container-id-3 div.sk-label-container {text-align: center;}#sk-container-id-3 div.sk-container {/* jupyter's `normalize.less` sets `[hidden] { display: none; }` but bootstrap.min.css set `[hidden] { display: none !important; }` so we also need the `!important` here to be able to override the default hidden behavior on the sphinx rendered scikit-learn.org. See: https://github.com/scikit-learn/scikit-learn/issues/21755 */display: inline-block !important;position: relative;}#sk-container-id-3 div.sk-text-repr-fallback {display: none;}</style><div id=\"sk-container-id-3\" class=\"sk-top-container\"><div class=\"sk-text-repr-fallback\"><pre>LinearRegression()</pre><b>In a Jupyter environment, please rerun this cell to show the HTML representation or trust the notebook. <br />On GitHub, the HTML representation is unable to render, please try loading this page with nbviewer.org.</b></div><div class=\"sk-container\" hidden><div class=\"sk-item\"><div class=\"sk-estimator sk-toggleable\"><input class=\"sk-toggleable__control sk-hidden--visually\" id=\"sk-estimator-id-5\" type=\"checkbox\" checked><label for=\"sk-estimator-id-5\" class=\"sk-toggleable__label sk-toggleable__label-arrow\">LinearRegression</label><div class=\"sk-toggleable__content\"><pre>LinearRegression()</pre></div></div></div></div></div>"
            ]
          },
          "metadata": {},
          "execution_count": 20
        }
      ],
      "source": [
        "from sklearn.linear_model import LinearRegression\n",
        "reg = LinearRegression()\n",
        "reg.fit(X_train, Y_train)"
      ]
    },
    {
      "cell_type": "code",
      "source": [
        "#PLOTTING RESIDUAL ERRORS IN TEST DATA\n",
        "plt.scatter(reg.predict(X_test), reg.predict(X_test) - Y_test, color=\"blue\", s=10, label='Test data')\n",
        "#PLOTTING LINE FOR ZERO RESIDUAL ERROR\n",
        "plt.hlines(y=0, xmin=0, xmax=50, linewidth=2)\n",
        "plt.legend(loc='upper right')\n",
        "plt.title(\"Residual errors\")\n",
        "plt.show()\n",
        "from sklearn.metrics import r2_score\n",
        "\n",
        "Y_pred = reg.predict(X_test)\n",
        "print('r2_score is',r2_score(Y_test,Y_pred))\n",
        "from sklearn.metrics import mean_squared_error\n",
        "from math import sqrt\n",
        "\n",
        "rms = sqrt(mean_squared_error(Y_test,Y_pred))\n",
        "print('root_mean_error is',rms)\n",
        "from sklearn.model_selection import KFold, cross_val_score\n",
        "\n",
        "k_folds = KFold(n_splits = 5)\n",
        "\n",
        "scores = cross_val_score(reg,X_train,np.ravel(Y_train), cv = k_folds)\n",
        "\n",
        "print(\"Cross Validation Scores: \", scores)\n",
        "print(\"Average CV Score: \", scores.mean())\n",
        "print(\"Number of CV Scores used in Average: \", len(scores)) #avrg cv score 87.6"
      ],
      "metadata": {
        "colab": {
          "base_uri": "https://localhost:8080/",
          "height": 539
        },
        "id": "S3o7LKmXGpKB",
        "outputId": "c8960499-91e8-43f8-8b07-2c65b130734c"
      },
      "id": "S3o7LKmXGpKB",
      "execution_count": 24,
      "outputs": [
        {
          "output_type": "display_data",
          "data": {
            "text/plain": [
              "<Figure size 640x480 with 1 Axes>"
            ],
            "image/png": "[encoded data removed]"
          },
          "metadata": {}
        },
        {
          "output_type": "stream",
          "name": "stdout",
          "text": [
            "r2_score is 0.8842209001970078\n",
            "root_mean_error is 0.14701634746775558\n",
            "Cross Validation Scores:  [0.82783433 0.8981638  0.85400698 0.87561926 0.92455592]\n",
            "Average CV Score:  0.8760360588569156\n",
            "Number of CV Scores used in Average:  5\n"
          ]
        }
      ]
    },
    {
      "cell_type": "markdown",
      "source": [
        "DecisionTreeRegressor"
      ],
      "metadata": {
        "id": "A56-CzQNHUIt"
      },
      "id": "A56-CzQNHUIt"
    },
    {
      "cell_type": "code",
      "execution_count": 25,
      "id": "1855e4e7",
      "metadata": {
        "id": "1855e4e7"
      },
      "outputs": [],
      "source": [
        "from sklearn.tree import DecisionTreeRegressor"
      ]
    },
    {
      "cell_type": "code",
      "execution_count": 27,
      "id": "c6912948",
      "metadata": {
        "id": "c6912948"
      },
      "outputs": [],
      "source": [
        "#create a regressor object\n",
        "regressor = DecisionTreeRegressor(random_state=0)"
      ]
    },
    {
      "cell_type": "code",
      "execution_count": 7,
      "id": "8ac721ed",
      "metadata": {
        "id": "8ac721ed"
      },
      "outputs": [],
      "source": []
    },
    {
      "cell_type": "code",
      "execution_count": 30,
      "id": "d7d150e3",
      "metadata": {
        "lines_to_next_cell": 2,
        "colab": {
          "base_uri": "https://localhost:8080/"
        },
        "id": "d7d150e3",
        "outputId": "3b07fda8-59a5-4afc-917e-5561f31a6e2b"
      },
      "outputs": [
        {
          "output_type": "stream",
          "name": "stdout",
          "text": [
            "r2_score is 0.7748174593350492\n",
            "Cross Validation Scores:  [0.67465717 0.770889   0.66642325 0.74243713 0.78596612]\n",
            "Average CV Score:  0.7280745346844701\n",
            "Number of CV Scores used in Average:  5\n"
          ]
        }
      ],
      "source": [
        "#fit the regressor with X and Y data\n",
        "regressor.fit(X_train, Y_train)\n",
        "from sklearn.metrics import r2_score\n",
        "Y_pred = regressor.predict(X_test)\n",
        "print('r2_score is',r2_score(Y_test,Y_pred))\n",
        "from sklearn.model_selection import KFold, cross_val_score\n",
        "\n",
        "k_folds = KFold(n_splits = 5)\n",
        "\n",
        "scores = cross_val_score(regressor,X_train,np.ravel(Y_train), cv = k_folds)\n",
        "\n",
        "print(\"Cross Validation Scores: \", scores)\n",
        "print(\"Average CV Score: \", scores.mean())\n",
        "print(\"Number of CV Scores used in Average: \", len(scores)) #avrg cv score 87.9"
      ]
    },
    {
      "cell_type": "code",
      "execution_count": 8,
      "id": "7d65e7fb",
      "metadata": {
        "id": "7d65e7fb"
      },
      "outputs": [],
      "source": [
        "# #RANDOM FOREST\n",
        "from sklearn.ensemble import RandomForestRegressor\n",
        "#CREATE REGRESSOR OBJECT\n",
        "regressor = RandomForestRegressor(bootstrap=True,max_depth=40,max_features= 7,min_samples_leaf=1,min_samples_split =3,n_estimators=1000)"
      ]
    },
    {
      "cell_type": "code",
      "execution_count": 9,
      "id": "6a4e554a",
      "metadata": {
        "colab": {
          "base_uri": "https://localhost:8080/",
          "height": 91
        },
        "id": "6a4e554a",
        "outputId": "3daa7a15-2c24-45fa-b3a9-2581ccad1049"
      },
      "outputs": [
        {
          "output_type": "execute_result",
          "data": {
            "text/plain": [
              "RandomForestRegressor(max_depth=40, max_features=7, min_samples_split=3,\n",
              "                      n_estimators=1000)"
            ],
            "text/html": [
              "<style>#sk-container-id-2 {color: black;}#sk-container-id-2 pre{padding: 0;}#sk-container-id-2 div.sk-toggleable {background-color: white;}#sk-container-id-2 label.sk-toggleable__label {cursor: pointer;display: block;width: 100%;margin-bottom: 0;padding: 0.3em;box-sizing: border-box;text-align: center;}#sk-container-id-2 label.sk-toggleable__label-arrow:before {content: \"▸\";float: left;margin-right: 0.25em;color: #696969;}#sk-container-id-2 label.sk-toggleable__label-arrow:hover:before {color: black;}#sk-container-id-2 div.sk-estimator:hover label.sk-toggleable__label-arrow:before {color: black;}#sk-container-id-2 div.sk-toggleable__content {max-height: 0;max-width: 0;overflow: hidden;text-align: left;background-color: #f0f8ff;}#sk-container-id-2 div.sk-toggleable__content pre {margin: 0.2em;color: black;border-radius: 0.25em;background-color: #f0f8ff;}#sk-container-id-2 input.sk-toggleable__control:checked~div.sk-toggleable__content {max-height: 200px;max-width: 100%;overflow: auto;}#sk-container-id-2 input.sk-toggleable__control:checked~label.sk-toggleable__label-arrow:before {content: \"▾\";}#sk-container-id-2 div.sk-estimator input.sk-toggleable__control:checked~label.sk-toggleable__label {background-color: #d4ebff;}#sk-container-id-2 div.sk-label input.sk-toggleable__control:checked~label.sk-toggleable__label {background-color: #d4ebff;}#sk-container-id-2 input.sk-hidden--visually {border: 0;clip: rect(1px 1px 1px 1px);clip: rect(1px, 1px, 1px, 1px);height: 1px;margin: -1px;overflow: hidden;padding: 0;position: absolute;width: 1px;}#sk-container-id-2 div.sk-estimator {font-family: monospace;background-color: #f0f8ff;border: 1px dotted black;border-radius: 0.25em;box-sizing: border-box;margin-bottom: 0.5em;}#sk-container-id-2 div.sk-estimator:hover {background-color: #d4ebff;}#sk-container-id-2 div.sk-parallel-item::after {content: \"\";width: 100%;border-bottom: 1px solid gray;flex-grow: 1;}#sk-container-id-2 div.sk-label:hover label.sk-toggleable__label {background-color: #d4ebff;}#sk-container-id-2 div.sk-serial::before {content: \"\";position: absolute;border-left: 1px solid gray;box-sizing: border-box;top: 0;bottom: 0;left: 50%;z-index: 0;}#sk-container-id-2 div.sk-serial {display: flex;flex-direction: column;align-items: center;background-color: white;padding-right: 0.2em;padding-left: 0.2em;position: relative;}#sk-container-id-2 div.sk-item {position: relative;z-index: 1;}#sk-container-id-2 div.sk-parallel {display: flex;align-items: stretch;justify-content: center;background-color: white;position: relative;}#sk-container-id-2 div.sk-item::before, #sk-container-id-2 div.sk-parallel-item::before {content: \"\";position: absolute;border-left: 1px solid gray;box-sizing: border-box;top: 0;bottom: 0;left: 50%;z-index: -1;}#sk-container-id-2 div.sk-parallel-item {display: flex;flex-direction: column;z-index: 1;position: relative;background-color: white;}#sk-container-id-2 div.sk-parallel-item:first-child::after {align-self: flex-end;width: 50%;}#sk-container-id-2 div.sk-parallel-item:last-child::after {align-self: flex-start;width: 50%;}#sk-container-id-2 div.sk-parallel-item:only-child::after {width: 0;}#sk-container-id-2 div.sk-dashed-wrapped {border: 1px dashed gray;margin: 0 0.4em 0.5em 0.4em;box-sizing: border-box;padding-bottom: 0.4em;background-color: white;}#sk-container-id-2 div.sk-label label {font-family: monospace;font-weight: bold;display: inline-block;line-height: 1.2em;}#sk-container-id-2 div.sk-label-container {text-align: center;}#sk-container-id-2 div.sk-container {/* jupyter's `normalize.less` sets `[hidden] { display: none; }` but bootstrap.min.css set `[hidden] { display: none !important; }` so we also need the `!important` here to be able to override the default hidden behavior on the sphinx rendered scikit-learn.org. See: https://github.com/scikit-learn/scikit-learn/issues/21755 */display: inline-block !important;position: relative;}#sk-container-id-2 div.sk-text-repr-fallback {display: none;}</style><div id=\"sk-container-id-2\" class=\"sk-top-container\"><div class=\"sk-text-repr-fallback\"><pre>RandomForestRegressor(max_depth=40, max_features=7, min_samples_split=3,\n",
              "                      n_estimators=1000)</pre><b>In a Jupyter environment, please rerun this cell to show the HTML representation or trust the notebook. <br />On GitHub, the HTML representation is unable to render, please try loading this page with nbviewer.org.</b></div><div class=\"sk-container\" hidden><div class=\"sk-item\"><div class=\"sk-estimator sk-toggleable\"><input class=\"sk-toggleable__control sk-hidden--visually\" id=\"sk-estimator-id-4\" type=\"checkbox\" checked><label for=\"sk-estimator-id-4\" class=\"sk-toggleable__label sk-toggleable__label-arrow\">RandomForestRegressor</label><div class=\"sk-toggleable__content\"><pre>RandomForestRegressor(max_depth=40, max_features=7, min_samples_split=3,\n",
              "                      n_estimators=1000)</pre></div></div></div></div></div>"
            ]
          },
          "metadata": {},
          "execution_count": 9
        }
      ],
      "source": [
        "regressor.fit(X,np.ravel(Y))"
      ]
    },
    {
      "cell_type": "code",
      "execution_count": 10,
      "id": "d0ee6313",
      "metadata": {
        "id": "d0ee6313"
      },
      "outputs": [],
      "source": [
        "Y_pred = regressor.predict(X_test)"
      ]
    },
    {
      "cell_type": "code",
      "execution_count": 11,
      "id": "b5fd1a16",
      "metadata": {
        "lines_to_next_cell": 2,
        "colab": {
          "base_uri": "https://localhost:8080/"
        },
        "id": "b5fd1a16",
        "outputId": "1012b01a-cc3a-4276-e31d-b3e182463fa1"
      },
      "outputs": [
        {
          "output_type": "stream",
          "name": "stdout",
          "text": [
            "[12.30249819 12.06731467 11.70642331 11.31595643 11.83592579 12.71402875\n",
            " 12.60613493 11.91742934 12.24344922 12.43285439 12.06860498 11.10553272\n",
            " 12.11799363 12.77771065 12.34574042 11.50209069 11.70754155 11.65842698\n",
            " 12.39386077 11.78008828 11.69915212 11.6918134  12.4004072  12.75271786\n",
            " 11.35748118 12.13094429 11.76842963 12.09012307 13.08937039 11.72396765\n",
            " 11.62672019 11.65229616 11.7366923  11.2871057  11.94462497 12.81757832\n",
            " 11.8024986  11.3997351  12.46566569 11.61369573 11.79755757 11.86643833\n",
            " 11.4032455  11.78761784 12.09638397 12.01613968 11.68018824 12.02973289\n",
            " 12.39443047 12.54616694 11.48607616 12.54507579 11.65240883 12.37631109\n",
            " 12.1817536  11.59026922 11.70406943 12.07367029 11.72386419 12.10530781\n",
            " 11.99247666 12.5149373  11.42085831 11.79140589 11.97897324 11.79645708\n",
            " 11.80351411 12.3715015  11.96400479 11.90333882 12.21531986 11.62094572\n",
            " 12.72863441 12.04871284 11.99257109 12.28760095 12.02258826 11.93761223\n",
            " 13.11115062 12.11202835 12.13952251 11.78194825 11.80665146 11.98182252\n",
            " 12.17163862 11.89931263 11.93026265 11.96735873 12.162735   12.02220186\n",
            " 12.18077173 12.09804275 11.56178455 11.5301565  11.5586801  11.8786822\n",
            " 11.64057773 11.77276075 11.92604854 11.91513796 12.04120021 11.80479135\n",
            " 11.6810154  11.70125657 11.80953313 11.96583488 12.06924302 12.00993192\n",
            " 11.78453961 12.67665676 11.92635264 12.15661485 11.67047399 12.12765234\n",
            " 12.37139078 12.02915022 12.27435612 11.75823312 12.05361399 12.35708517\n",
            " 11.73835814 12.37550155 12.85425851 12.01132589 11.96284869 12.07923775\n",
            " 12.76840417 11.10938057 12.28785133 12.303999   12.54585356 11.32984154\n",
            " 11.79887256 11.74052551 11.30697916 12.25708559 13.21948979 12.77558441\n",
            " 12.35232801 11.83935548 11.64322114 12.42562554 12.02961127 12.29697522\n",
            " 10.91500394 12.26660674 11.63384049 12.14226936 12.25923071 11.68254306\n",
            " 12.07501071 12.0798279  11.5778288  12.06627097 12.02155695 12.75298799\n",
            " 11.39290127 11.83946062 11.48761095 11.77417256 11.01590006 11.57343119\n",
            " 11.94367191 11.849079   11.64411796 11.76763828 12.07510597 11.85932692\n",
            " 11.75993474 11.64738296 12.42253227 12.05946352 12.32397138 12.49660554\n",
            " 12.1032471  11.79333578 12.0523227  12.24684307 11.77671335 11.98685373\n",
            " 11.78761964 12.08898299 11.87879791 11.86230141 12.57704595 11.73613358\n",
            " 12.60791203 12.67080824 12.12357371 11.71106339 11.60876871 11.78807258\n",
            " 11.49112494 12.14029714 11.90415547 12.47964189 12.27364374 11.91778688\n",
            " 11.96086279 11.31291737 12.23725965 12.39449931 12.00472798 12.08218796\n",
            " 12.64782943 11.59425146 12.15637613 12.60620159 12.62538725 12.26665187\n",
            " 12.13497176 11.65389494 12.06159181 11.6525078  12.61415481 12.47215548\n",
            " 11.74707583 11.439182   12.13651803 11.3996545  13.39959697 11.34350205\n",
            " 12.05707507 12.12029597 11.68115198 11.7616393  12.24976024 12.08376488\n",
            " 12.02879097 12.06109087 11.74793122 12.1247753  11.54391255 11.8209652\n",
            " 12.65735901 11.71755594 12.60153065 11.65500939 11.70039592 12.71917296\n",
            " 12.774202   12.14648098 11.78604984 12.01484258 11.79619023 11.60675615\n",
            " 11.83500775 11.82327148 12.02611746 12.0329496  11.77164936 11.7256741\n",
            " 12.16929452 11.99798347 11.58216229 11.69451344 12.07004589 11.34521963\n",
            " 12.62771697 11.78938688 12.28412909 11.82424362 12.29131952 11.97786721\n",
            " 11.65876837 12.1970578  11.68153637 12.05808114 11.8666239  11.40614528\n",
            " 12.15720111 12.10841374 11.40154463 11.51343809 12.16344386 11.48206235\n",
            " 11.61460868 11.81935055 12.23283804 11.88474638 11.79657873 11.79333677\n",
            " 11.88675128 11.92925645 12.41252337 12.25289227 11.78164927 11.51045832\n",
            " 12.41988156 11.26941774 11.34914021 12.68009527 11.89291887 11.50772659\n",
            " 12.06996866 12.33094085 12.13288491 12.33490785 11.97308246 11.69455098\n",
            " 11.95919297 11.77144061 11.84808519 12.0903396  11.83812195 12.17134071\n",
            " 11.92820627 12.07639815 11.84649863 12.10959492 12.02221818 11.84999402\n",
            " 11.46089524 12.3177608  11.91308646 11.01153721 12.56024715 12.13785518\n",
            " 12.11521723 12.26366193 12.16397219 11.96493867 11.77749491 12.34786536\n",
            " 11.67361652 12.98787145 12.01943124 12.48442835 11.68460329 11.57983588\n",
            " 11.73107004 12.51542323 12.432825   12.6105044  12.05835277 11.86112099\n",
            " 11.79806572 11.6607557  12.66261634 12.06569053 12.30470056 12.48530787\n",
            " 11.34888685 12.5130022  11.57627619 12.02718449 11.98437276 11.94054948\n",
            " 12.48094001 11.39603902 12.33875289 11.89478037 12.80768383 11.81510008\n",
            " 11.8576753  11.77560567 12.23816867 11.93494465 11.44385786 12.66680737\n",
            " 12.17217869 12.14532107 11.72313286 12.41150816 11.93022379 12.59510956\n",
            " 12.21519018 11.93971375 12.00100474 11.91063014 11.83757592 12.05481602\n",
            " 12.22600828 12.27586607 12.65559608 12.0715642  11.34973022 11.63010722\n",
            " 11.75860353 12.96423915 12.04835407 10.70937873 12.8310633  11.83823476\n",
            " 11.59039684 12.4499212  12.05822062 12.80365732 11.94880164 11.48645962\n",
            " 12.79996311 12.09101504 12.14202301 12.31717471 12.12225596 11.84136645\n",
            " 11.38817127 12.49748782 11.95880178 12.87085983 12.60941544 12.24221327\n",
            " 12.44994565 12.49072444 12.12530371 12.18188341 11.2425677  11.91119393\n",
            " 12.29066391 11.94037587 11.95960722 12.56778911 12.09013479 11.6846448\n",
            " 11.1275656  11.9020596  11.53904503 11.6848258  11.92875548 12.54702767\n",
            " 10.71350725 11.5808987  11.46263854 11.65179457 12.5002234  12.37813067\n",
            " 12.78333316 12.1754782  12.02363037 10.78727078 12.11669693 11.71753508\n",
            " 12.83559483 12.33928629 12.32129764 12.01537598 12.09115067 12.24608045\n",
            " 11.65134121 12.4470401  11.77302852 12.31591091 11.36925932 11.92144816\n",
            " 11.74695274 11.72347624 12.73878271 11.98073423 11.76746215 12.166463\n",
            " 11.86937715 11.75895983 11.59299662 11.91523238 11.90836613 12.35048102\n",
            " 11.67021493 11.85014645 11.66787267 12.41260503 12.39661262 11.70666743\n",
            " 11.89041278 12.08586696 11.76419664 12.306472   12.35082483 11.83728621\n",
            " 12.7599118  11.83861182 12.98765389 12.39721709 11.80682796 11.78462217\n",
            " 12.10354386 11.81867265 12.2074035  12.67876011 12.91157881 12.42989835\n",
            " 11.91314699 12.46833431]\n"
          ]
        }
      ],
      "source": [
        "print(Y_pred)"
      ]
    },
    {
      "cell_type": "markdown",
      "id": "e80ab5e2",
      "metadata": {
        "lines_to_next_cell": 2,
        "id": "e80ab5e2"
      },
      "source": [
        "CHECKING ACCURACY"
      ]
    },
    {
      "cell_type": "code",
      "execution_count": 31,
      "id": "46d157fb",
      "metadata": {
        "colab": {
          "base_uri": "https://localhost:8080/"
        },
        "id": "46d157fb",
        "outputId": "8a4400d7-eaa2-4275-ca6a-96ddf9070b05"
      },
      "outputs": [
        {
          "output_type": "stream",
          "name": "stdout",
          "text": [
            "r2_score is 0.7748174593350492\n"
          ]
        }
      ],
      "source": [
        "from sklearn.metrics import r2_score\n",
        "print('r2_score is',r2_score(Y_test,Y_pred))\n",
        "from sklearn.metrics import mean_squared_error\n",
        "from math import sqrt"
      ]
    },
    {
      "cell_type": "code",
      "execution_count": 32,
      "id": "3d83c6d4",
      "metadata": {
        "lines_to_next_cell": 2,
        "colab": {
          "base_uri": "https://localhost:8080/"
        },
        "id": "3d83c6d4",
        "outputId": "f72e6c0e-a39f-4afc-e674-db94f13db33e"
      },
      "outputs": [
        {
          "output_type": "stream",
          "name": "stdout",
          "text": [
            "root_mean_error is 0.20503023142797153\n"
          ]
        }
      ],
      "source": [
        "rms = sqrt(mean_squared_error(Y_test,Y_pred))\n",
        "print('root_mean_error is',rms)"
      ]
    },
    {
      "cell_type": "code",
      "execution_count": 34,
      "id": "07a37a21",
      "metadata": {
        "id": "07a37a21"
      },
      "outputs": [],
      "source": [
        "#CROSS VALIDATION\n",
        "from sklearn.model_selection import KFold, cross_val_score"
      ]
    },
    {
      "cell_type": "code",
      "execution_count": 35,
      "id": "eaacbf41",
      "metadata": {
        "id": "eaacbf41"
      },
      "outputs": [],
      "source": [
        "k_folds = KFold(n_splits = 5)"
      ]
    },
    {
      "cell_type": "code",
      "execution_count": 36,
      "id": "64cf88a3",
      "metadata": {
        "id": "64cf88a3"
      },
      "outputs": [],
      "source": [
        "scores = cross_val_score(regressor,X_train,np.ravel(Y_train), cv = k_folds)"
      ]
    },
    {
      "cell_type": "code",
      "execution_count": 37,
      "id": "c5eb3821",
      "metadata": {
        "colab": {
          "base_uri": "https://localhost:8080/"
        },
        "id": "c5eb3821",
        "outputId": "73223e1c-b412-4d96-d283-ea1160af9988"
      },
      "outputs": [
        {
          "output_type": "stream",
          "name": "stdout",
          "text": [
            "Cross Validation Scores:  [0.67465717 0.770889   0.66642325 0.74243713 0.78596612]\n",
            "Average CV Score:  0.7280745346844701\n",
            "Number of CV Scores used in Average:  5\n"
          ]
        }
      ],
      "source": [
        "print(\"Cross Validation Scores: \", scores)\n",
        "print(\"Average CV Score: \", scores.mean())\n",
        "print(\"Number of CV Scores used in Average: \", len(scores))     # avg cv score 87.9"
      ]
    },
    {
      "cell_type": "markdown",
      "source": [
        "XGBOOST REGRESSOR"
      ],
      "metadata": {
        "id": "C7vRkrLjKN15"
      },
      "id": "C7vRkrLjKN15"
    },
    {
      "cell_type": "code",
      "source": [
        "from xgboost import XGBRegressor\n",
        "\n",
        "xgb_r = XGBRegressor()\n",
        "\n",
        "xgb_r.fit(X_train,Y_train)\n",
        "\n",
        "Y_pred =xgb_r.predict(X_test)\n",
        "from sklearn.metrics import r2_score\n",
        "print('r2_score is',r2_score(Y_test,Y_pred)) # avg cv score 86.27"
      ],
      "metadata": {
        "colab": {
          "base_uri": "https://localhost:8080/"
        },
        "id": "l7EosPCWKW5L",
        "outputId": "1f97f01d-0f16-48cf-b40f-21b744f9d37a"
      },
      "id": "l7EosPCWKW5L",
      "execution_count": 43,
      "outputs": [
        {
          "output_type": "stream",
          "name": "stdout",
          "text": [
            "r2_score is 0.8797290754656258\n"
          ]
        }
      ]
    }
  ],
  "metadata": {
    "jupytext": {
      "cell_metadata_filter": "-all",
      "main_language": "python",
      "notebook_metadata_filter": "-all"
    },
    "colab": {
      "provenance": []
    },
    "language_info": {
      "name": "python"
    },
    "kernelspec": {
      "name": "python3",
      "display_name": "Python 3"
    }
  },
  "nbformat": 4,
  "nbformat_minor": 5
}